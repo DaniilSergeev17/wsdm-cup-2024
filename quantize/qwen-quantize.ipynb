{
 "cells": [
  {
   "cell_type": "code",
   "execution_count": 2,
   "id": "18987d62-ce92-4d70-b8b2-5e3d419e97e7",
   "metadata": {},
   "outputs": [],
   "source": [
    "from transformers import Qwen2ForSequenceClassification, BitsAndBytesConfig, AutoTokenizer\n",
    "import torch\n",
    "from peft import PeftModel"
   ]
  },
  {
   "cell_type": "code",
   "execution_count": 3,
   "id": "d0baa89d-f123-4405-92ba-5da7d2fb2a95",
   "metadata": {},
   "outputs": [
    {
     "name": "stderr",
     "output_type": "stream",
     "text": [
      "Unused kwargs: ['_load_in_4bit', '_load_in_8bit', 'quant_method']. These kwargs are not used in <class 'transformers.utils.quantization_config.BitsAndBytesConfig'>.\n"
     ]
    }
   ],
   "source": [
    "cfg = {\n",
    "    \"_load_in_4bit\": False,\n",
    "    \"_load_in_8bit\": True,\n",
    "    \"bnb_4bit_compute_dtype\": \"bfloat16\",\n",
    "    \"bnb_4bit_quant_storage\": \"uint8\",\n",
    "    \"bnb_4bit_quant_type\": \"fp4\",\n",
    "    \"bnb_4bit_use_double_quant\": False,\n",
    "    \"llm_int8_enable_fp32_cpu_offload\": False,\n",
    "    \"llm_int8_has_fp16_weight\": False,\n",
    "    \"llm_int8_skip_modules\": None,\n",
    "    \"llm_int8_threshold\": 6.0,\n",
    "    \"load_in_4bit\": False,\n",
    "    \"load_in_8bit\": True,\n",
    "    \"quant_method\": \"bitsandbytes\"\n",
    "  }\n",
    "\n",
    "bnb_cfg = BitsAndBytesConfig(**cfg)"
   ]
  },
  {
   "cell_type": "code",
   "execution_count": 4,
   "id": "dfa0a575-8dff-4ad2-a2fd-8c5baddc6650",
   "metadata": {},
   "outputs": [
    {
     "data": {
      "application/vnd.jupyter.widget-view+json": {
       "model_id": "4071a932db664630920813bf13d88469",
       "version_major": 2,
       "version_minor": 0
      },
      "text/plain": [
       "Downloading shards:   0%|          | 0/2 [00:00<?, ?it/s]"
      ]
     },
     "metadata": {},
     "output_type": "display_data"
    },
    {
     "data": {
      "application/vnd.jupyter.widget-view+json": {
       "model_id": "6bac8acc2ccc475cb7d9b0bcb26847ee",
       "version_major": 2,
       "version_minor": 0
      },
      "text/plain": [
       "model-00001-of-000002.safetensors:  10%|#         | 881M/8.61G [00:00<?, ?B/s]"
      ]
     },
     "metadata": {},
     "output_type": "display_data"
    },
    {
     "data": {
      "application/vnd.jupyter.widget-view+json": {
       "model_id": "3ba1371e3d2443689797c1062085cb4c",
       "version_major": 2,
       "version_minor": 0
      },
      "text/plain": [
       "model-00002-of-000002.safetensors:   0%|          | 0.00/6.62G [00:00<?, ?B/s]"
      ]
     },
     "metadata": {},
     "output_type": "display_data"
    },
    {
     "data": {
      "application/vnd.jupyter.widget-view+json": {
       "model_id": "bead0c6eb60c4a80ae00149a2c898c38",
       "version_major": 2,
       "version_minor": 0
      },
      "text/plain": [
       "Loading checkpoint shards:   0%|          | 0/2 [00:00<?, ?it/s]"
      ]
     },
     "metadata": {},
     "output_type": "display_data"
    },
    {
     "name": "stderr",
     "output_type": "stream",
     "text": [
      "Some weights of Qwen2ForSequenceClassification were not initialized from the model checkpoint at deepseek-ai/DeepSeek-R1-Distill-Qwen-7B and are newly initialized: ['score.weight']\n",
      "You should probably TRAIN this model on a down-stream task to be able to use it for predictions and inference.\n"
     ]
    }
   ],
   "source": [
    "model = Qwen2ForSequenceClassification.from_pretrained(\n",
    "    'deepseek-ai/DeepSeek-R1-Distill-Qwen-7B',\n",
    "    quantization_config=bnb_cfg,\n",
    "    num_labels=2,\n",
    "    torch_dtype=torch.bfloat16,\n",
    "    device_map='auto',\n",
    ")"
   ]
  },
  {
   "cell_type": "code",
   "execution_count": 5,
   "id": "8c702f5d-b7a6-4fb4-92d2-f088bf2aa66d",
   "metadata": {},
   "outputs": [
    {
     "data": {
      "application/vnd.jupyter.widget-view+json": {
       "model_id": "564a62eb75e94da5a86e0992e02028e0",
       "version_major": 2,
       "version_minor": 0
      },
      "text/plain": [
       "tokenizer_config.json:   0%|          | 0.00/3.06k [00:00<?, ?B/s]"
      ]
     },
     "metadata": {},
     "output_type": "display_data"
    },
    {
     "data": {
      "application/vnd.jupyter.widget-view+json": {
       "model_id": "2f3e1a5bb40b4a05836ead592d07a4d5",
       "version_major": 2,
       "version_minor": 0
      },
      "text/plain": [
       "tokenizer.json:   0%|          | 0.00/7.03M [00:00<?, ?B/s]"
      ]
     },
     "metadata": {},
     "output_type": "display_data"
    }
   ],
   "source": [
    "tokenizer = AutoTokenizer.from_pretrained('deepseek-ai/DeepSeek-R1-Distill-Qwen-7B')"
   ]
  },
  {
   "cell_type": "code",
   "execution_count": 6,
   "id": "b2ab63f2-4022-4006-8d7a-38665ec88f89",
   "metadata": {},
   "outputs": [
    {
     "data": {
      "text/plain": [
       "('R1-QWEN7B/tokenizer_config.json',\n",
       " 'R1-QWEN7B/special_tokens_map.json',\n",
       " 'R1-QWEN7B/tokenizer.json')"
      ]
     },
     "execution_count": 6,
     "metadata": {},
     "output_type": "execute_result"
    }
   ],
   "source": [
    "model.save_pretrained('R1-QWEN7B')\n",
    "tokenizer.save_pretrained('R1-QWEN7B')"
   ]
  }
 ],
 "metadata": {
  "kernelspec": {
   "display_name": "Python [conda env:.mlspace-311venv_kotov]",
   "language": "python",
   "name": "conda-env-.mlspace-311venv_kotov-py"
  },
  "language_info": {
   "codemirror_mode": {
    "name": "ipython",
    "version": 3
   },
   "file_extension": ".py",
   "mimetype": "text/x-python",
   "name": "python",
   "nbconvert_exporter": "python",
   "pygments_lexer": "ipython3",
   "version": "3.12.7"
  }
 },
 "nbformat": 4,
 "nbformat_minor": 5
}
