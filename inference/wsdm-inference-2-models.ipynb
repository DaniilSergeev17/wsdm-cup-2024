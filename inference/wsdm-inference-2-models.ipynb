{
 "cells": [
  {
   "cell_type": "code",
   "execution_count": 1,
   "id": "8665fce7",
   "metadata": {
    "_cell_guid": "b1076dfc-b9ad-4769-8c92-a6c4dae69d19",
    "_uuid": "8f2839f25d086af736a60e9eeb907d3b93b6e0e5",
    "execution": {
     "iopub.execute_input": "2025-01-24T08:24:18.127383Z",
     "iopub.status.busy": "2025-01-24T08:24:18.126948Z",
     "iopub.status.idle": "2025-01-24T08:24:41.063419Z",
     "shell.execute_reply": "2025-01-24T08:24:41.062223Z"
    },
    "papermill": {
     "duration": 22.945727,
     "end_time": "2025-01-24T08:24:41.065142",
     "exception": false,
     "start_time": "2025-01-24T08:24:18.119415",
     "status": "completed"
    },
    "scrolled": true,
    "tags": []
   },
   "outputs": [
    {
     "name": "stdout",
     "output_type": "stream",
     "text": [
      "Looking in links: /kaggle/input/wsdm-wheels/accelerate\r\n",
      "Requirement already satisfied: accelerate in /usr/local/lib/python3.10/dist-packages (1.2.1)\r\n",
      "Requirement already satisfied: numpy<3.0.0,>=1.17 in /usr/local/lib/python3.10/dist-packages (from accelerate) (1.26.4)\r\n",
      "Requirement already satisfied: packaging>=20.0 in /usr/local/lib/python3.10/dist-packages (from accelerate) (24.2)\r\n",
      "Requirement already satisfied: psutil in /usr/local/lib/python3.10/dist-packages (from accelerate) (5.9.5)\r\n",
      "Requirement already satisfied: pyyaml in /usr/local/lib/python3.10/dist-packages (from accelerate) (6.0.2)\r\n",
      "Requirement already satisfied: torch>=1.10.0 in /usr/local/lib/python3.10/dist-packages (from accelerate) (2.5.1+cu121)\r\n",
      "Requirement already satisfied: huggingface-hub>=0.21.0 in /usr/local/lib/python3.10/dist-packages (from accelerate) (0.27.0)\r\n",
      "Requirement already satisfied: safetensors>=0.4.3 in /usr/local/lib/python3.10/dist-packages (from accelerate) (0.4.5)\r\n",
      "Requirement already satisfied: filelock in /usr/local/lib/python3.10/dist-packages (from huggingface-hub>=0.21.0->accelerate) (3.16.1)\r\n",
      "Requirement already satisfied: fsspec>=2023.5.0 in /usr/local/lib/python3.10/dist-packages (from huggingface-hub>=0.21.0->accelerate) (2024.9.0)\r\n",
      "Requirement already satisfied: requests in /usr/local/lib/python3.10/dist-packages (from huggingface-hub>=0.21.0->accelerate) (2.32.3)\r\n",
      "Requirement already satisfied: tqdm>=4.42.1 in /usr/local/lib/python3.10/dist-packages (from huggingface-hub>=0.21.0->accelerate) (4.67.1)\r\n",
      "Requirement already satisfied: typing-extensions>=3.7.4.3 in /usr/local/lib/python3.10/dist-packages (from huggingface-hub>=0.21.0->accelerate) (4.12.2)\r\n",
      "Requirement already satisfied: mkl_fft in /usr/local/lib/python3.10/dist-packages (from numpy<3.0.0,>=1.17->accelerate) (1.3.8)\r\n",
      "Requirement already satisfied: mkl_random in /usr/local/lib/python3.10/dist-packages (from numpy<3.0.0,>=1.17->accelerate) (1.2.4)\r\n",
      "Requirement already satisfied: mkl_umath in /usr/local/lib/python3.10/dist-packages (from numpy<3.0.0,>=1.17->accelerate) (0.1.1)\r\n",
      "Requirement already satisfied: mkl in /usr/local/lib/python3.10/dist-packages (from numpy<3.0.0,>=1.17->accelerate) (2025.0.1)\r\n",
      "Requirement already satisfied: tbb4py in /usr/local/lib/python3.10/dist-packages (from numpy<3.0.0,>=1.17->accelerate) (2022.0.0)\r\n",
      "Requirement already satisfied: mkl-service in /usr/local/lib/python3.10/dist-packages (from numpy<3.0.0,>=1.17->accelerate) (2.4.1)\r\n",
      "Requirement already satisfied: networkx in /usr/local/lib/python3.10/dist-packages (from torch>=1.10.0->accelerate) (3.4.2)\r\n",
      "Requirement already satisfied: jinja2 in /usr/local/lib/python3.10/dist-packages (from torch>=1.10.0->accelerate) (3.1.4)\r\n",
      "Requirement already satisfied: sympy==1.13.1 in /usr/local/lib/python3.10/dist-packages (from torch>=1.10.0->accelerate) (1.13.1)\r\n",
      "Requirement already satisfied: mpmath<1.4,>=1.1.0 in /usr/local/lib/python3.10/dist-packages (from sympy==1.13.1->torch>=1.10.0->accelerate) (1.3.0)\r\n",
      "Requirement already satisfied: MarkupSafe>=2.0 in /usr/local/lib/python3.10/dist-packages (from jinja2->torch>=1.10.0->accelerate) (3.0.2)\r\n",
      "Requirement already satisfied: intel-openmp>=2024 in /usr/local/lib/python3.10/dist-packages (from mkl->numpy<3.0.0,>=1.17->accelerate) (2024.2.0)\r\n",
      "Requirement already satisfied: tbb==2022.* in /usr/local/lib/python3.10/dist-packages (from mkl->numpy<3.0.0,>=1.17->accelerate) (2022.0.0)\r\n",
      "Requirement already satisfied: tcmlib==1.* in /usr/local/lib/python3.10/dist-packages (from tbb==2022.*->mkl->numpy<3.0.0,>=1.17->accelerate) (1.2.0)\r\n",
      "Requirement already satisfied: intel-cmplr-lib-rt in /usr/local/lib/python3.10/dist-packages (from mkl_umath->numpy<3.0.0,>=1.17->accelerate) (2024.2.0)\r\n",
      "Requirement already satisfied: charset-normalizer<4,>=2 in /usr/local/lib/python3.10/dist-packages (from requests->huggingface-hub>=0.21.0->accelerate) (3.4.0)\r\n",
      "Requirement already satisfied: idna<4,>=2.5 in /usr/local/lib/python3.10/dist-packages (from requests->huggingface-hub>=0.21.0->accelerate) (3.10)\r\n",
      "Requirement already satisfied: urllib3<3,>=1.21.1 in /usr/local/lib/python3.10/dist-packages (from requests->huggingface-hub>=0.21.0->accelerate) (2.2.3)\r\n",
      "Requirement already satisfied: certifi>=2017.4.17 in /usr/local/lib/python3.10/dist-packages (from requests->huggingface-hub>=0.21.0->accelerate) (2024.12.14)\r\n",
      "Requirement already satisfied: intel-cmplr-lib-ur==2024.2.0 in /usr/local/lib/python3.10/dist-packages (from intel-openmp>=2024->mkl->numpy<3.0.0,>=1.17->accelerate) (2024.2.0)\r\n",
      "Looking in links: /kaggle/input/wsdm-wheels/bitsandbytes\r\n",
      "Processing /kaggle/input/wsdm-wheels/bitsandbytes/bitsandbytes-0.45.0-py3-none-manylinux_2_24_x86_64.whl\r\n",
      "Requirement already satisfied: torch in /usr/local/lib/python3.10/dist-packages (from bitsandbytes) (2.5.1+cu121)\r\n",
      "Requirement already satisfied: numpy in /usr/local/lib/python3.10/dist-packages (from bitsandbytes) (1.26.4)\r\n",
      "Requirement already satisfied: typing_extensions>=4.8.0 in /usr/local/lib/python3.10/dist-packages (from bitsandbytes) (4.12.2)\r\n",
      "Requirement already satisfied: mkl_fft in /usr/local/lib/python3.10/dist-packages (from numpy->bitsandbytes) (1.3.8)\r\n",
      "Requirement already satisfied: mkl_random in /usr/local/lib/python3.10/dist-packages (from numpy->bitsandbytes) (1.2.4)\r\n",
      "Requirement already satisfied: mkl_umath in /usr/local/lib/python3.10/dist-packages (from numpy->bitsandbytes) (0.1.1)\r\n",
      "Requirement already satisfied: mkl in /usr/local/lib/python3.10/dist-packages (from numpy->bitsandbytes) (2025.0.1)\r\n",
      "Requirement already satisfied: tbb4py in /usr/local/lib/python3.10/dist-packages (from numpy->bitsandbytes) (2022.0.0)\r\n",
      "Requirement already satisfied: mkl-service in /usr/local/lib/python3.10/dist-packages (from numpy->bitsandbytes) (2.4.1)\r\n",
      "Requirement already satisfied: filelock in /usr/local/lib/python3.10/dist-packages (from torch->bitsandbytes) (3.16.1)\r\n",
      "Requirement already satisfied: networkx in /usr/local/lib/python3.10/dist-packages (from torch->bitsandbytes) (3.4.2)\r\n",
      "Requirement already satisfied: jinja2 in /usr/local/lib/python3.10/dist-packages (from torch->bitsandbytes) (3.1.4)\r\n",
      "Requirement already satisfied: fsspec in /usr/local/lib/python3.10/dist-packages (from torch->bitsandbytes) (2024.9.0)\r\n",
      "Requirement already satisfied: sympy==1.13.1 in /usr/local/lib/python3.10/dist-packages (from torch->bitsandbytes) (1.13.1)\r\n",
      "Requirement already satisfied: mpmath<1.4,>=1.1.0 in /usr/local/lib/python3.10/dist-packages (from sympy==1.13.1->torch->bitsandbytes) (1.3.0)\r\n",
      "Requirement already satisfied: MarkupSafe>=2.0 in /usr/local/lib/python3.10/dist-packages (from jinja2->torch->bitsandbytes) (3.0.2)\r\n",
      "Requirement already satisfied: intel-openmp>=2024 in /usr/local/lib/python3.10/dist-packages (from mkl->numpy->bitsandbytes) (2024.2.0)\r\n",
      "Requirement already satisfied: tbb==2022.* in /usr/local/lib/python3.10/dist-packages (from mkl->numpy->bitsandbytes) (2022.0.0)\r\n",
      "Requirement already satisfied: tcmlib==1.* in /usr/local/lib/python3.10/dist-packages (from tbb==2022.*->mkl->numpy->bitsandbytes) (1.2.0)\r\n",
      "Requirement already satisfied: intel-cmplr-lib-rt in /usr/local/lib/python3.10/dist-packages (from mkl_umath->numpy->bitsandbytes) (2024.2.0)\r\n",
      "Requirement already satisfied: intel-cmplr-lib-ur==2024.2.0 in /usr/local/lib/python3.10/dist-packages (from intel-openmp>=2024->mkl->numpy->bitsandbytes) (2024.2.0)\r\n",
      "Installing collected packages: bitsandbytes\r\n",
      "Successfully installed bitsandbytes-0.45.0\r\n",
      "Looking in links: /kaggle/input/wsdm-wheels/peft\r\n",
      "Requirement already satisfied: peft in /usr/local/lib/python3.10/dist-packages (0.14.0)\r\n",
      "Requirement already satisfied: numpy>=1.17 in /usr/local/lib/python3.10/dist-packages (from peft) (1.26.4)\r\n",
      "Requirement already satisfied: packaging>=20.0 in /usr/local/lib/python3.10/dist-packages (from peft) (24.2)\r\n",
      "Requirement already satisfied: psutil in /usr/local/lib/python3.10/dist-packages (from peft) (5.9.5)\r\n",
      "Requirement already satisfied: pyyaml in /usr/local/lib/python3.10/dist-packages (from peft) (6.0.2)\r\n",
      "Requirement already satisfied: torch>=1.13.0 in /usr/local/lib/python3.10/dist-packages (from peft) (2.5.1+cu121)\r\n",
      "Requirement already satisfied: transformers in /usr/local/lib/python3.10/dist-packages (from peft) (4.47.0)\r\n",
      "Requirement already satisfied: tqdm in /usr/local/lib/python3.10/dist-packages (from peft) (4.67.1)\r\n",
      "Requirement already satisfied: accelerate>=0.21.0 in /usr/local/lib/python3.10/dist-packages (from peft) (1.2.1)\r\n",
      "Requirement already satisfied: safetensors in /usr/local/lib/python3.10/dist-packages (from peft) (0.4.5)\r\n",
      "Requirement already satisfied: huggingface-hub>=0.25.0 in /usr/local/lib/python3.10/dist-packages (from peft) (0.27.0)\r\n",
      "Requirement already satisfied: filelock in /usr/local/lib/python3.10/dist-packages (from huggingface-hub>=0.25.0->peft) (3.16.1)\r\n",
      "Requirement already satisfied: fsspec>=2023.5.0 in /usr/local/lib/python3.10/dist-packages (from huggingface-hub>=0.25.0->peft) (2024.9.0)\r\n",
      "Requirement already satisfied: requests in /usr/local/lib/python3.10/dist-packages (from huggingface-hub>=0.25.0->peft) (2.32.3)\r\n",
      "Requirement already satisfied: typing-extensions>=3.7.4.3 in /usr/local/lib/python3.10/dist-packages (from huggingface-hub>=0.25.0->peft) (4.12.2)\r\n",
      "Requirement already satisfied: mkl_fft in /usr/local/lib/python3.10/dist-packages (from numpy>=1.17->peft) (1.3.8)\r\n",
      "Requirement already satisfied: mkl_random in /usr/local/lib/python3.10/dist-packages (from numpy>=1.17->peft) (1.2.4)\r\n",
      "Requirement already satisfied: mkl_umath in /usr/local/lib/python3.10/dist-packages (from numpy>=1.17->peft) (0.1.1)\r\n",
      "Requirement already satisfied: mkl in /usr/local/lib/python3.10/dist-packages (from numpy>=1.17->peft) (2025.0.1)\r\n",
      "Requirement already satisfied: tbb4py in /usr/local/lib/python3.10/dist-packages (from numpy>=1.17->peft) (2022.0.0)\r\n",
      "Requirement already satisfied: mkl-service in /usr/local/lib/python3.10/dist-packages (from numpy>=1.17->peft) (2.4.1)\r\n",
      "Requirement already satisfied: networkx in /usr/local/lib/python3.10/dist-packages (from torch>=1.13.0->peft) (3.4.2)\r\n",
      "Requirement already satisfied: jinja2 in /usr/local/lib/python3.10/dist-packages (from torch>=1.13.0->peft) (3.1.4)\r\n",
      "Requirement already satisfied: sympy==1.13.1 in /usr/local/lib/python3.10/dist-packages (from torch>=1.13.0->peft) (1.13.1)\r\n",
      "Requirement already satisfied: mpmath<1.4,>=1.1.0 in /usr/local/lib/python3.10/dist-packages (from sympy==1.13.1->torch>=1.13.0->peft) (1.3.0)\r\n",
      "Requirement already satisfied: regex!=2019.12.17 in /usr/local/lib/python3.10/dist-packages (from transformers->peft) (2024.11.6)\r\n",
      "Requirement already satisfied: tokenizers<0.22,>=0.21 in /usr/local/lib/python3.10/dist-packages (from transformers->peft) (0.21.0)\r\n",
      "Requirement already satisfied: MarkupSafe>=2.0 in /usr/local/lib/python3.10/dist-packages (from jinja2->torch>=1.13.0->peft) (3.0.2)\r\n",
      "Requirement already satisfied: intel-openmp>=2024 in /usr/local/lib/python3.10/dist-packages (from mkl->numpy>=1.17->peft) (2024.2.0)\r\n",
      "Requirement already satisfied: tbb==2022.* in /usr/local/lib/python3.10/dist-packages (from mkl->numpy>=1.17->peft) (2022.0.0)\r\n",
      "Requirement already satisfied: tcmlib==1.* in /usr/local/lib/python3.10/dist-packages (from tbb==2022.*->mkl->numpy>=1.17->peft) (1.2.0)\r\n",
      "Requirement already satisfied: intel-cmplr-lib-rt in /usr/local/lib/python3.10/dist-packages (from mkl_umath->numpy>=1.17->peft) (2024.2.0)\r\n",
      "Requirement already satisfied: charset-normalizer<4,>=2 in /usr/local/lib/python3.10/dist-packages (from requests->huggingface-hub>=0.25.0->peft) (3.4.0)\r\n",
      "Requirement already satisfied: idna<4,>=2.5 in /usr/local/lib/python3.10/dist-packages (from requests->huggingface-hub>=0.25.0->peft) (3.10)\r\n",
      "Requirement already satisfied: urllib3<3,>=1.21.1 in /usr/local/lib/python3.10/dist-packages (from requests->huggingface-hub>=0.25.0->peft) (2.2.3)\r\n",
      "Requirement already satisfied: certifi>=2017.4.17 in /usr/local/lib/python3.10/dist-packages (from requests->huggingface-hub>=0.25.0->peft) (2024.12.14)\r\n",
      "Requirement already satisfied: intel-cmplr-lib-ur==2024.2.0 in /usr/local/lib/python3.10/dist-packages (from intel-openmp>=2024->mkl->numpy>=1.17->peft) (2024.2.0)\r\n",
      "Looking in links: /kaggle/input/wsdm-wheels/transformers\r\n",
      "Requirement already satisfied: transformers in /usr/local/lib/python3.10/dist-packages (4.47.0)\r\n",
      "Requirement already satisfied: filelock in /usr/local/lib/python3.10/dist-packages (from transformers) (3.16.1)\r\n",
      "Requirement already satisfied: huggingface-hub<1.0,>=0.24.0 in /usr/local/lib/python3.10/dist-packages (from transformers) (0.27.0)\r\n",
      "Requirement already satisfied: numpy>=1.17 in /usr/local/lib/python3.10/dist-packages (from transformers) (1.26.4)\r\n",
      "Requirement already satisfied: packaging>=20.0 in /usr/local/lib/python3.10/dist-packages (from transformers) (24.2)\r\n",
      "Requirement already satisfied: pyyaml>=5.1 in /usr/local/lib/python3.10/dist-packages (from transformers) (6.0.2)\r\n",
      "Requirement already satisfied: regex!=2019.12.17 in /usr/local/lib/python3.10/dist-packages (from transformers) (2024.11.6)\r\n",
      "Requirement already satisfied: requests in /usr/local/lib/python3.10/dist-packages (from transformers) (2.32.3)\r\n",
      "Requirement already satisfied: tokenizers<0.22,>=0.21 in /usr/local/lib/python3.10/dist-packages (from transformers) (0.21.0)\r\n",
      "Requirement already satisfied: safetensors>=0.4.1 in /usr/local/lib/python3.10/dist-packages (from transformers) (0.4.5)\r\n",
      "Requirement already satisfied: tqdm>=4.27 in /usr/local/lib/python3.10/dist-packages (from transformers) (4.67.1)\r\n",
      "Requirement already satisfied: fsspec>=2023.5.0 in /usr/local/lib/python3.10/dist-packages (from huggingface-hub<1.0,>=0.24.0->transformers) (2024.9.0)\r\n",
      "Requirement already satisfied: typing-extensions>=3.7.4.3 in /usr/local/lib/python3.10/dist-packages (from huggingface-hub<1.0,>=0.24.0->transformers) (4.12.2)\r\n",
      "Requirement already satisfied: mkl_fft in /usr/local/lib/python3.10/dist-packages (from numpy>=1.17->transformers) (1.3.8)\r\n",
      "Requirement already satisfied: mkl_random in /usr/local/lib/python3.10/dist-packages (from numpy>=1.17->transformers) (1.2.4)\r\n",
      "Requirement already satisfied: mkl_umath in /usr/local/lib/python3.10/dist-packages (from numpy>=1.17->transformers) (0.1.1)\r\n",
      "Requirement already satisfied: mkl in /usr/local/lib/python3.10/dist-packages (from numpy>=1.17->transformers) (2025.0.1)\r\n",
      "Requirement already satisfied: tbb4py in /usr/local/lib/python3.10/dist-packages (from numpy>=1.17->transformers) (2022.0.0)\r\n",
      "Requirement already satisfied: mkl-service in /usr/local/lib/python3.10/dist-packages (from numpy>=1.17->transformers) (2.4.1)\r\n",
      "Requirement already satisfied: charset-normalizer<4,>=2 in /usr/local/lib/python3.10/dist-packages (from requests->transformers) (3.4.0)\r\n",
      "Requirement already satisfied: idna<4,>=2.5 in /usr/local/lib/python3.10/dist-packages (from requests->transformers) (3.10)\r\n",
      "Requirement already satisfied: urllib3<3,>=1.21.1 in /usr/local/lib/python3.10/dist-packages (from requests->transformers) (2.2.3)\r\n",
      "Requirement already satisfied: certifi>=2017.4.17 in /usr/local/lib/python3.10/dist-packages (from requests->transformers) (2024.12.14)\r\n",
      "Requirement already satisfied: intel-openmp>=2024 in /usr/local/lib/python3.10/dist-packages (from mkl->numpy>=1.17->transformers) (2024.2.0)\r\n",
      "Requirement already satisfied: tbb==2022.* in /usr/local/lib/python3.10/dist-packages (from mkl->numpy>=1.17->transformers) (2022.0.0)\r\n",
      "Requirement already satisfied: tcmlib==1.* in /usr/local/lib/python3.10/dist-packages (from tbb==2022.*->mkl->numpy>=1.17->transformers) (1.2.0)\r\n",
      "Requirement already satisfied: intel-cmplr-lib-rt in /usr/local/lib/python3.10/dist-packages (from mkl_umath->numpy>=1.17->transformers) (2024.2.0)\r\n",
      "Requirement already satisfied: intel-cmplr-lib-ur==2024.2.0 in /usr/local/lib/python3.10/dist-packages (from intel-openmp>=2024->mkl->numpy>=1.17->transformers) (2024.2.0)\r\n",
      "Looking in links: /kaggle/input/ftfy-wheels/ftfy_wheels\r\n",
      "Processing /kaggle/input/ftfy-wheels/ftfy_wheels/ftfy-6.3.1-py3-none-any.whl\r\n",
      "Requirement already satisfied: wcwidth in /usr/local/lib/python3.10/dist-packages (from ftfy) (0.2.13)\r\n",
      "Installing collected packages: ftfy\r\n",
      "Successfully installed ftfy-6.3.1\r\n"
     ]
    }
   ],
   "source": [
    "!pip install --no-index --find-links=/kaggle/input/wsdm-wheels/accelerate accelerate\n",
    "!pip install --no-index --find-links=/kaggle/input/wsdm-wheels/bitsandbytes bitsandbytes\n",
    "!pip install --no-index --find-links=/kaggle/input/wsdm-wheels/peft peft\n",
    "!pip install --no-index --find-links=/kaggle/input/wsdm-wheels/transformers transformers\n",
    "!pip install --no-index --find-links=/kaggle/input/ftfy-wheels/ftfy_wheels ftfy"
   ]
  },
  {
   "cell_type": "code",
   "execution_count": 2,
   "id": "d30a248c",
   "metadata": {
    "execution": {
     "iopub.execute_input": "2025-01-24T08:24:41.078615Z",
     "iopub.status.busy": "2025-01-24T08:24:41.078344Z",
     "iopub.status.idle": "2025-01-24T08:25:16.510874Z",
     "shell.execute_reply": "2025-01-24T08:25:16.510147Z"
    },
    "papermill": {
     "duration": 35.440818,
     "end_time": "2025-01-24T08:25:16.512451",
     "exception": false,
     "start_time": "2025-01-24T08:24:41.071633",
     "status": "completed"
    },
    "tags": []
   },
   "outputs": [],
   "source": [
    "import os\n",
    "import time\n",
    "from concurrent.futures import ThreadPoolExecutor\n",
    "from dataclasses import dataclass\n",
    "from pathlib import Path\n",
    "\n",
    "import numpy as np\n",
    "import pandas as pd\n",
    "import sklearn\n",
    "import torch\n",
    "from transformers import (\n",
    "    AutoModelForSequenceClassification,\n",
    "    AutoTokenizer,\n",
    "    BitsAndBytesConfig,\n",
    "    PreTrainedTokenizerBase,\n",
    ")\n",
    "from transformers.data.data_collator import pad_without_fast_tokenizer_warning\n",
    "from peft import PeftModel\n",
    "import ftfy"
   ]
  },
  {
   "cell_type": "code",
   "execution_count": 3,
   "id": "3147c9f1",
   "metadata": {
    "execution": {
     "iopub.execute_input": "2025-01-24T08:25:16.525376Z",
     "iopub.status.busy": "2025-01-24T08:25:16.524869Z",
     "iopub.status.idle": "2025-01-24T08:25:16.529401Z",
     "shell.execute_reply": "2025-01-24T08:25:16.528782Z"
    },
    "papermill": {
     "duration": 0.012099,
     "end_time": "2025-01-24T08:25:16.530850",
     "exception": false,
     "start_time": "2025-01-24T08:25:16.518751",
     "status": "completed"
    },
    "tags": []
   },
   "outputs": [],
   "source": [
    "@dataclass\n",
    "class Config:\n",
    "    # --- main pathes ---\n",
    "    gemma_dir = '/kaggle/input/wsdm-download-8bit-top5-model'\n",
    "    data_dir = Path('/kaggle/input/wsdm-cup-multilingual-chatbot-arena')\n",
    "    # --- head params ---\n",
    "    head_dropout = 0.1\n",
    "    hdim = 3584\n",
    "    num_labels = 2\n",
    "    # --- inference params ---\n",
    "    device = torch.device('cuda')    \n",
    "    max_length = 2200\n",
    "    batch_size = 2\n",
    "    use_leftside = True\n",
    "    tta = True\n",
    "    do_merge = False\n",
    "    \n",
    "cfg = Config()"
   ]
  },
  {
   "cell_type": "code",
   "execution_count": 4,
   "id": "da2cd771",
   "metadata": {
    "execution": {
     "iopub.execute_input": "2025-01-24T08:25:16.542696Z",
     "iopub.status.busy": "2025-01-24T08:25:16.542492Z",
     "iopub.status.idle": "2025-01-24T08:25:16.772037Z",
     "shell.execute_reply": "2025-01-24T08:25:16.771022Z"
    },
    "papermill": {
     "duration": 0.237241,
     "end_time": "2025-01-24T08:25:16.773707",
     "exception": false,
     "start_time": "2025-01-24T08:25:16.536466",
     "status": "completed"
    },
    "tags": []
   },
   "outputs": [],
   "source": [
    "test = pd.read_parquet(cfg.data_dir / 'test.parquet')"
   ]
  },
  {
   "cell_type": "code",
   "execution_count": 5,
   "id": "b3279540",
   "metadata": {
    "execution": {
     "iopub.execute_input": "2025-01-24T08:25:16.786949Z",
     "iopub.status.busy": "2025-01-24T08:25:16.786628Z",
     "iopub.status.idle": "2025-01-24T08:25:16.790221Z",
     "shell.execute_reply": "2025-01-24T08:25:16.789508Z"
    },
    "papermill": {
     "duration": 0.011572,
     "end_time": "2025-01-24T08:25:16.791455",
     "exception": false,
     "start_time": "2025-01-24T08:25:16.779883",
     "status": "completed"
    },
    "tags": []
   },
   "outputs": [],
   "source": [
    "def process_text(text: str) -> str:\n",
    "    return ftfy.fix_text(text)"
   ]
  },
  {
   "cell_type": "code",
   "execution_count": 6,
   "id": "c6bf3e62",
   "metadata": {
    "execution": {
     "iopub.execute_input": "2025-01-24T08:25:16.803838Z",
     "iopub.status.busy": "2025-01-24T08:25:16.803558Z",
     "iopub.status.idle": "2025-01-24T08:25:16.808472Z",
     "shell.execute_reply": "2025-01-24T08:25:16.807842Z"
    },
    "papermill": {
     "duration": 0.012527,
     "end_time": "2025-01-24T08:25:16.809719",
     "exception": false,
     "start_time": "2025-01-24T08:25:16.797192",
     "status": "completed"
    },
    "tags": []
   },
   "outputs": [],
   "source": [
    "def tokenize(\n",
    "    tokenizer, prompt, response_a, response_b, max_length=cfg.max_length\n",
    "):\n",
    "    prompt = ['<prompt>: ' + process_text(t) for t in prompt]\n",
    "    response_a = ['\\n\\n<response_a>: ' + process_text(t) for t in response_a]\n",
    "    response_b = ['\\n\\n<response_b>: ' + process_text(t) for t in response_b]\n",
    "    \n",
    "    texts = [p + r_a + r_b for p, r_a, r_b in zip(prompt, response_a, response_b)]\n",
    "    tokenized = tokenizer(texts, max_length=max_length, truncation=True)\n",
    "    \n",
    "    input_ids = tokenized.input_ids\n",
    "    attention_mask = tokenized.attention_mask\n",
    "        \n",
    "    return input_ids, attention_mask"
   ]
  },
  {
   "cell_type": "code",
   "execution_count": 7,
   "id": "5641f352",
   "metadata": {
    "execution": {
     "iopub.execute_input": "2025-01-24T08:25:16.821837Z",
     "iopub.status.busy": "2025-01-24T08:25:16.821605Z",
     "iopub.status.idle": "2025-01-24T08:25:18.690889Z",
     "shell.execute_reply": "2025-01-24T08:25:18.690187Z"
    },
    "papermill": {
     "duration": 1.876957,
     "end_time": "2025-01-24T08:25:18.692483",
     "exception": false,
     "start_time": "2025-01-24T08:25:16.815526",
     "status": "completed"
    },
    "tags": []
   },
   "outputs": [],
   "source": [
    "tokenizer = AutoTokenizer.from_pretrained(cfg.gemma_dir)\n",
    "tokenizer.add_eos_token = True\n",
    "\n",
    "if cfg.use_leftside:\n",
    "    tokenizer.truncation_side = 'left'\n",
    "    tokenizer.padding_side = 'left'"
   ]
  },
  {
   "cell_type": "code",
   "execution_count": 8,
   "id": "2807f29d",
   "metadata": {
    "execution": {
     "iopub.execute_input": "2025-01-24T08:25:18.705116Z",
     "iopub.status.busy": "2025-01-24T08:25:18.704864Z",
     "iopub.status.idle": "2025-01-24T08:25:18.764138Z",
     "shell.execute_reply": "2025-01-24T08:25:18.763406Z"
    },
    "papermill": {
     "duration": 0.06678,
     "end_time": "2025-01-24T08:25:18.765417",
     "exception": false,
     "start_time": "2025-01-24T08:25:18.698637",
     "status": "completed"
    },
    "tags": []
   },
   "outputs": [
    {
     "name": "stdout",
     "output_type": "stream",
     "text": [
      "CPU times: user 45.8 ms, sys: 1.65 ms, total: 47.5 ms\n",
      "Wall time: 54.6 ms\n"
     ]
    }
   ],
   "source": [
    "%%time\n",
    "\n",
    "data = pd.DataFrame()\n",
    "data[\"id\"] = test[\"id\"]\n",
    "data[\"input_ids\"], data[\"attention_mask\"] = tokenize(tokenizer, test[\"prompt\"], test[\"response_a\"], test[\"response_b\"])\n",
    "data[\"length\"] = data[\"input_ids\"].apply(len)\n",
    "\n",
    "aug_data = pd.DataFrame()\n",
    "aug_data[\"id\"] = test[\"id\"]\n",
    "aug_data['input_ids'], aug_data['attention_mask'] = tokenize(tokenizer, test[\"prompt\"], test[\"response_b\"], test[\"response_a\"])\n",
    "aug_data[\"length\"] = aug_data[\"input_ids\"].apply(len)"
   ]
  },
  {
   "cell_type": "code",
   "execution_count": 9,
   "id": "2ef60408",
   "metadata": {
    "execution": {
     "iopub.execute_input": "2025-01-24T08:25:18.777403Z",
     "iopub.status.busy": "2025-01-24T08:25:18.777144Z",
     "iopub.status.idle": "2025-01-24T08:25:18.786610Z",
     "shell.execute_reply": "2025-01-24T08:25:18.785702Z"
    },
    "papermill": {
     "duration": 0.017035,
     "end_time": "2025-01-24T08:25:18.788070",
     "exception": false,
     "start_time": "2025-01-24T08:25:18.771035",
     "status": "completed"
    },
    "tags": []
   },
   "outputs": [],
   "source": [
    "data.to_parquet('data.parquet', index=False)"
   ]
  },
  {
   "cell_type": "code",
   "execution_count": 10,
   "id": "f21434b5",
   "metadata": {
    "execution": {
     "iopub.execute_input": "2025-01-24T08:25:18.800246Z",
     "iopub.status.busy": "2025-01-24T08:25:18.800032Z",
     "iopub.status.idle": "2025-01-24T08:25:18.805226Z",
     "shell.execute_reply": "2025-01-24T08:25:18.804571Z"
    },
    "papermill": {
     "duration": 0.012788,
     "end_time": "2025-01-24T08:25:18.806534",
     "exception": false,
     "start_time": "2025-01-24T08:25:18.793746",
     "status": "completed"
    },
    "tags": []
   },
   "outputs": [
    {
     "name": "stdout",
     "output_type": "stream",
     "text": [
      "Writing run_model.py\n"
     ]
    }
   ],
   "source": [
    "%%writefile run_model.py\n",
    "\n",
    "import os\n",
    "import time\n",
    "from concurrent.futures import ThreadPoolExecutor\n",
    "from dataclasses import dataclass\n",
    "from pathlib import Path\n",
    "\n",
    "import numpy as np\n",
    "import pandas as pd\n",
    "import sklearn\n",
    "import torch\n",
    "from transformers import (\n",
    "    AutoModelForSequenceClassification,\n",
    "    AutoTokenizer,\n",
    "    BitsAndBytesConfig,\n",
    "    PreTrainedTokenizerBase,\n",
    ")\n",
    "from transformers.data.data_collator import pad_without_fast_tokenizer_warning\n",
    "from peft import PeftModel\n",
    "import ftfy\n",
    "import argparse\n",
    "\n",
    "@dataclass\n",
    "class Config:\n",
    "    # --- main pathes ---\n",
    "    gemma_dir = '/kaggle/input/wsdm-download-8bit-top5-model'\n",
    "    data_dir = Path('/kaggle/input/wsdm-cup-multilingual-chatbot-arena')\n",
    "    # --- head params ---\n",
    "    head_dropout = 0.1\n",
    "    hdim = 3584\n",
    "    num_labels = 2\n",
    "    # --- inference params ---\n",
    "    device = torch.device('cuda')    \n",
    "    max_length = 2200\n",
    "    batch_size = 2\n",
    "    use_leftside = True\n",
    "    tta = True\n",
    "    do_merge = False\n",
    "    \n",
    "cfg = Config()\n",
    "\n",
    "def main(args):\n",
    "    lora_path = args.lora_path\n",
    "    \n",
    "    device_0 = torch.device('cuda:0')\n",
    "    model_0 = AutoModelForSequenceClassification.from_pretrained(\n",
    "        cfg.gemma_dir,\n",
    "        torch_dtype=torch.float16,\n",
    "        num_labels=cfg.num_labels,\n",
    "        device_map=device_0,\n",
    "        use_cache=False,\n",
    "    )\n",
    "    model_0.score = torch.nn.Sequential(\n",
    "        torch.nn.Dropout(cfg.head_dropout),\n",
    "        torch.nn.Linear(cfg.hdim, cfg.hdim // 2),\n",
    "        torch.nn.Dropout(cfg.head_dropout),\n",
    "        torch.nn.GELU(),\n",
    "        torch.nn.Linear(cfg.hdim // 2, cfg.num_labels),\n",
    "    ).to(device_0)\n",
    "    \n",
    "    device_1 = torch.device('cuda:1')\n",
    "    model_1 = AutoModelForSequenceClassification.from_pretrained(\n",
    "        cfg.gemma_dir,\n",
    "        torch_dtype=torch.float16,\n",
    "        num_labels=cfg.num_labels,\n",
    "        device_map=device_1,\n",
    "        use_cache=False,\n",
    "    )\n",
    "    model_1.score = torch.nn.Sequential(\n",
    "        torch.nn.Dropout(cfg.head_dropout),\n",
    "        torch.nn.Linear(cfg.hdim, cfg.hdim // 2),\n",
    "        torch.nn.Dropout(cfg.head_dropout),\n",
    "        torch.nn.GELU(),\n",
    "        torch.nn.Linear(cfg.hdim // 2, cfg.num_labels),\n",
    "    ).to(device_1)\n",
    "\n",
    "    model_0 = PeftModel.from_pretrained(model_0, lora_path)\n",
    "    if cfg.do_merge:\n",
    "        model_0 = model_0.merge_and_unload()\n",
    "    \n",
    "    model_1 = PeftModel.from_pretrained(model_1, lora_path)\n",
    "    if cfg.do_merge:\n",
    "        model_1 = model_1.merge_and_unload()\n",
    "\n",
    "    tokenizer = AutoTokenizer.from_pretrained(cfg.gemma_dir)\n",
    "    tokenizer.add_eos_token = True\n",
    "    \n",
    "    if cfg.use_leftside:\n",
    "        tokenizer.truncation_side = 'left'\n",
    "        tokenizer.padding_side = 'left'\n",
    "\n",
    "    @torch.no_grad()\n",
    "    @torch.cuda.amp.autocast()\n",
    "    def inference(df, model, device, batch_size=cfg.batch_size, max_length=cfg.max_length):\n",
    "        a_win, b_win = [], []\n",
    "        \n",
    "        for start_idx in range(0, len(df), batch_size):\n",
    "            end_idx = min(start_idx + batch_size, len(df))\n",
    "            tmp = df.iloc[start_idx:end_idx]\n",
    "            input_ids = tmp['input_ids'].to_list()\n",
    "            attention_mask = tmp['attention_mask'].to_list()\n",
    "            inputs = pad_without_fast_tokenizer_warning(\n",
    "                tokenizer,\n",
    "                {'input_ids': input_ids, 'attention_mask': attention_mask},\n",
    "                padding='longest',\n",
    "                pad_to_multiple_of=None,\n",
    "                return_tensors='pt',\n",
    "            )\n",
    "            outputs = model(**inputs.to(device))\n",
    "            proba = outputs.logits.softmax(-1).cpu()\n",
    "            \n",
    "            a_win.extend(proba[:, 0].tolist())\n",
    "            b_win.extend(proba[:, 1].tolist())\n",
    "        \n",
    "        df['winner_model_a'] = a_win\n",
    "        df['winner_model_b'] = b_win\n",
    "        \n",
    "        return df\n",
    "\n",
    "    st = time.time()\n",
    "\n",
    "    data = pd.read_parquet(\"/kaggle/working/data.parquet\")\n",
    "    data = data.sort_values('length', ascending=False)\n",
    "    \n",
    "    sub_1 = data.iloc[0::2].copy()\n",
    "    sub_2 = data.iloc[1::2].copy()\n",
    "    \n",
    "    with ThreadPoolExecutor(max_workers=2) as executor:\n",
    "        results = executor.map(inference, (sub_1, sub_2), (model_0, model_1), (device_0, device_1))\n",
    "    \n",
    "    result_df = pd.concat(list(results), axis=0)\n",
    "    \n",
    "    print(f'elapsed time: {time.time() - st}')\n",
    "\n",
    "    result_df[['id', 'winner_model_a', 'winner_model_b']].to_csv('result.csv', index=False)\n",
    "\n",
    "if __name__ == \"__main__\":\n",
    "    parser = argparse.ArgumentParser()\n",
    "    parser.add_argument(\"--lora_path\", type=str, required=True)\n",
    "    args = parser.parse_args()\n",
    "    main(args)"
   ]
  },
  {
   "cell_type": "code",
   "execution_count": 11,
   "id": "ba4cfc9f",
   "metadata": {
    "execution": {
     "iopub.execute_input": "2025-01-24T08:25:18.818946Z",
     "iopub.status.busy": "2025-01-24T08:25:18.818690Z",
     "iopub.status.idle": "2025-01-24T08:25:18.822932Z",
     "shell.execute_reply": "2025-01-24T08:25:18.822150Z"
    },
    "papermill": {
     "duration": 0.011778,
     "end_time": "2025-01-24T08:25:18.824249",
     "exception": false,
     "start_time": "2025-01-24T08:25:18.812471",
     "status": "completed"
    },
    "tags": []
   },
   "outputs": [
    {
     "name": "stdout",
     "output_type": "stream",
     "text": [
      "Writing run.sh\n"
     ]
    }
   ],
   "source": [
    "%%writefile run.sh\n",
    "\n",
    "python run_model.py --lora_path '/kaggle/input/wsdm-download-top5-adapter-2200-ver2'\n",
    "\n",
    "wait \n",
    "echo \"All done\""
   ]
  },
  {
   "cell_type": "code",
   "execution_count": 12,
   "id": "da1db3f3",
   "metadata": {
    "execution": {
     "iopub.execute_input": "2025-01-24T08:25:18.836584Z",
     "iopub.status.busy": "2025-01-24T08:25:18.836343Z",
     "iopub.status.idle": "2025-01-24T08:27:15.949577Z",
     "shell.execute_reply": "2025-01-24T08:27:15.948492Z"
    },
    "papermill": {
     "duration": 117.12121,
     "end_time": "2025-01-24T08:27:15.951278",
     "exception": false,
     "start_time": "2025-01-24T08:25:18.830068",
     "status": "completed"
    },
    "tags": []
   },
   "outputs": [
    {
     "name": "stdout",
     "output_type": "stream",
     "text": [
      "2025-01-24 08:25:23.383142: E external/local_xla/xla/stream_executor/cuda/cuda_fft.cc:485] Unable to register cuFFT factory: Attempting to register factory for plugin cuFFT when one has already been registered\r\n",
      "2025-01-24 08:25:23.404997: E external/local_xla/xla/stream_executor/cuda/cuda_dnn.cc:8454] Unable to register cuDNN factory: Attempting to register factory for plugin cuDNN when one has already been registered\r\n",
      "2025-01-24 08:25:23.412468: E external/local_xla/xla/stream_executor/cuda/cuda_blas.cc:1452] Unable to register cuBLAS factory: Attempting to register factory for plugin cuBLAS when one has already been registered\r\n",
      "Unused kwargs: ['_load_in_4bit', '_load_in_8bit', 'quant_method']. These kwargs are not used in <class 'transformers.utils.quantization_config.BitsAndBytesConfig'>.\r\n",
      "Loading checkpoint shards: 100%|██████████████████| 3/3 [01:02<00:00, 20.92s/it]\r\n",
      "Unused kwargs: ['_load_in_4bit', '_load_in_8bit', 'quant_method']. These kwargs are not used in <class 'transformers.utils.quantization_config.BitsAndBytesConfig'>.\r\n",
      "Loading checkpoint shards: 100%|██████████████████| 3/3 [00:20<00:00,  6.93s/it]\r\n",
      "/kaggle/working/run_model.py:93: FutureWarning: `torch.cuda.amp.autocast(args...)` is deprecated. Please use `torch.amp.autocast('cuda', args...)` instead.\r\n",
      "  @torch.cuda.amp.autocast()\r\n",
      "elapsed time: 5.520461082458496\r\n",
      "All done\r\n"
     ]
    }
   ],
   "source": [
    "!sh run.sh"
   ]
  },
  {
   "cell_type": "code",
   "execution_count": 13,
   "id": "a3df4941",
   "metadata": {
    "execution": {
     "iopub.execute_input": "2025-01-24T08:27:15.965444Z",
     "iopub.status.busy": "2025-01-24T08:27:15.965204Z",
     "iopub.status.idle": "2025-01-24T08:27:15.977058Z",
     "shell.execute_reply": "2025-01-24T08:27:15.976339Z"
    },
    "papermill": {
     "duration": 0.02008,
     "end_time": "2025-01-24T08:27:15.978267",
     "exception": false,
     "start_time": "2025-01-24T08:27:15.958187",
     "status": "completed"
    },
    "tags": []
   },
   "outputs": [],
   "source": [
    "result_df = pd.read_csv('result.csv')\n",
    "proba = result_df[['winner_model_a', 'winner_model_b']].values"
   ]
  },
  {
   "cell_type": "code",
   "execution_count": 14,
   "id": "1988b91f",
   "metadata": {
    "execution": {
     "iopub.execute_input": "2025-01-24T08:27:15.992046Z",
     "iopub.status.busy": "2025-01-24T08:27:15.991833Z",
     "iopub.status.idle": "2025-01-24T08:27:15.997647Z",
     "shell.execute_reply": "2025-01-24T08:27:15.996877Z"
    },
    "papermill": {
     "duration": 0.014066,
     "end_time": "2025-01-24T08:27:15.998957",
     "exception": false,
     "start_time": "2025-01-24T08:27:15.984891",
     "status": "completed"
    },
    "tags": []
   },
   "outputs": [
    {
     "data": {
      "text/plain": [
       "array([[0.11182182, 0.88817811],\n",
       "       [0.34792474, 0.65207529],\n",
       "       [0.74073738, 0.25926262]])"
      ]
     },
     "execution_count": 14,
     "metadata": {},
     "output_type": "execute_result"
    }
   ],
   "source": [
    "proba"
   ]
  },
  {
   "cell_type": "code",
   "execution_count": 15,
   "id": "ac907df5",
   "metadata": {
    "execution": {
     "iopub.execute_input": "2025-01-24T08:27:16.012581Z",
     "iopub.status.busy": "2025-01-24T08:27:16.012376Z",
     "iopub.status.idle": "2025-01-24T08:27:16.019640Z",
     "shell.execute_reply": "2025-01-24T08:27:16.019071Z"
    },
    "papermill": {
     "duration": 0.015454,
     "end_time": "2025-01-24T08:27:16.020825",
     "exception": false,
     "start_time": "2025-01-24T08:27:16.005371",
     "status": "completed"
    },
    "tags": []
   },
   "outputs": [],
   "source": [
    "# carefull\n",
    "if cfg.tta:\n",
    "    aug_data.to_parquet('data.parquet', index=False)\n",
    "    #data.to_parquet('data.parquet', index=False)"
   ]
  },
  {
   "cell_type": "code",
   "execution_count": 16,
   "id": "a57e8a52",
   "metadata": {
    "execution": {
     "iopub.execute_input": "2025-01-24T08:27:16.034687Z",
     "iopub.status.busy": "2025-01-24T08:27:16.034477Z",
     "iopub.status.idle": "2025-01-24T08:27:16.038901Z",
     "shell.execute_reply": "2025-01-24T08:27:16.038273Z"
    },
    "papermill": {
     "duration": 0.012578,
     "end_time": "2025-01-24T08:27:16.040046",
     "exception": false,
     "start_time": "2025-01-24T08:27:16.027468",
     "status": "completed"
    },
    "tags": []
   },
   "outputs": [
    {
     "name": "stdout",
     "output_type": "stream",
     "text": [
      "Overwriting run.sh\n"
     ]
    }
   ],
   "source": [
    "%%writefile run.sh\n",
    "\n",
    "python run_model.py --lora_path '/kaggle/input/wsdm-download-top5-adapter-2200-rev'\n",
    "\n",
    "wait \n",
    "echo \"All done\""
   ]
  },
  {
   "cell_type": "code",
   "execution_count": 17,
   "id": "395cc06b",
   "metadata": {
    "execution": {
     "iopub.execute_input": "2025-01-24T08:27:16.054524Z",
     "iopub.status.busy": "2025-01-24T08:27:16.054250Z",
     "iopub.status.idle": "2025-01-24T08:28:28.008814Z",
     "shell.execute_reply": "2025-01-24T08:28:28.007877Z"
    },
    "papermill": {
     "duration": 71.96369,
     "end_time": "2025-01-24T08:28:28.010345",
     "exception": false,
     "start_time": "2025-01-24T08:27:16.046655",
     "status": "completed"
    },
    "tags": []
   },
   "outputs": [
    {
     "name": "stdout",
     "output_type": "stream",
     "text": [
      "2025-01-24 08:27:20.559952: E external/local_xla/xla/stream_executor/cuda/cuda_fft.cc:485] Unable to register cuFFT factory: Attempting to register factory for plugin cuFFT when one has already been registered\r\n",
      "2025-01-24 08:27:20.582391: E external/local_xla/xla/stream_executor/cuda/cuda_dnn.cc:8454] Unable to register cuDNN factory: Attempting to register factory for plugin cuDNN when one has already been registered\r\n",
      "2025-01-24 08:27:20.588995: E external/local_xla/xla/stream_executor/cuda/cuda_blas.cc:1452] Unable to register cuBLAS factory: Attempting to register factory for plugin cuBLAS when one has already been registered\r\n",
      "Unused kwargs: ['_load_in_4bit', '_load_in_8bit', 'quant_method']. These kwargs are not used in <class 'transformers.utils.quantization_config.BitsAndBytesConfig'>.\r\n",
      "Loading checkpoint shards: 100%|██████████████████| 3/3 [00:20<00:00,  6.73s/it]\r\n",
      "Unused kwargs: ['_load_in_4bit', '_load_in_8bit', 'quant_method']. These kwargs are not used in <class 'transformers.utils.quantization_config.BitsAndBytesConfig'>.\r\n",
      "Loading checkpoint shards: 100%|██████████████████| 3/3 [00:20<00:00,  6.75s/it]\r\n",
      "/kaggle/working/run_model.py:93: FutureWarning: `torch.cuda.amp.autocast(args...)` is deprecated. Please use `torch.amp.autocast('cuda', args...)` instead.\r\n",
      "  @torch.cuda.amp.autocast()\r\n",
      "elapsed time: 4.628667831420898\r\n",
      "All done\r\n"
     ]
    }
   ],
   "source": [
    "if cfg.tta:\n",
    "    !sh run.sh"
   ]
  },
  {
   "cell_type": "code",
   "execution_count": 18,
   "id": "7063921d",
   "metadata": {
    "execution": {
     "iopub.execute_input": "2025-01-24T08:28:28.026177Z",
     "iopub.status.busy": "2025-01-24T08:28:28.025936Z",
     "iopub.status.idle": "2025-01-24T08:28:28.033932Z",
     "shell.execute_reply": "2025-01-24T08:28:28.033200Z"
    },
    "papermill": {
     "duration": 0.017024,
     "end_time": "2025-01-24T08:28:28.035141",
     "exception": false,
     "start_time": "2025-01-24T08:28:28.018117",
     "status": "completed"
    },
    "tags": []
   },
   "outputs": [],
   "source": [
    "if cfg.tta:\n",
    "    result_df = pd.read_csv('result.csv')\n",
    "    #rev_proba = result_df[['winner_model_a', 'winner_model_b']].values\n",
    "    rev_proba = result_df[['winner_model_b', 'winner_model_a']].values"
   ]
  },
  {
   "cell_type": "code",
   "execution_count": 19,
   "id": "3206902f",
   "metadata": {
    "execution": {
     "iopub.execute_input": "2025-01-24T08:28:28.050269Z",
     "iopub.status.busy": "2025-01-24T08:28:28.050035Z",
     "iopub.status.idle": "2025-01-24T08:28:28.053559Z",
     "shell.execute_reply": "2025-01-24T08:28:28.052713Z"
    },
    "papermill": {
     "duration": 0.012458,
     "end_time": "2025-01-24T08:28:28.054908",
     "exception": false,
     "start_time": "2025-01-24T08:28:28.042450",
     "status": "completed"
    },
    "tags": []
   },
   "outputs": [],
   "source": [
    "proba = (proba + rev_proba) / 2"
   ]
  },
  {
   "cell_type": "code",
   "execution_count": 20,
   "id": "f3520050",
   "metadata": {
    "execution": {
     "iopub.execute_input": "2025-01-24T08:28:28.069961Z",
     "iopub.status.busy": "2025-01-24T08:28:28.069638Z",
     "iopub.status.idle": "2025-01-24T08:28:28.075299Z",
     "shell.execute_reply": "2025-01-24T08:28:28.074501Z"
    },
    "papermill": {
     "duration": 0.014622,
     "end_time": "2025-01-24T08:28:28.076560",
     "exception": false,
     "start_time": "2025-01-24T08:28:28.061938",
     "status": "completed"
    },
    "tags": []
   },
   "outputs": [
    {
     "data": {
      "text/plain": [
       "array([[0.10555861, 0.89444137],\n",
       "       [0.35472783, 0.6452722 ],\n",
       "       [0.62740874, 0.37259124]])"
      ]
     },
     "execution_count": 20,
     "metadata": {},
     "output_type": "execute_result"
    }
   ],
   "source": [
    "proba"
   ]
  },
  {
   "cell_type": "code",
   "execution_count": 21,
   "id": "d2a71fa7",
   "metadata": {
    "execution": {
     "iopub.execute_input": "2025-01-24T08:28:28.091898Z",
     "iopub.status.busy": "2025-01-24T08:28:28.091661Z",
     "iopub.status.idle": "2025-01-24T08:28:28.095693Z",
     "shell.execute_reply": "2025-01-24T08:28:28.095093Z"
    },
    "papermill": {
     "duration": 0.012906,
     "end_time": "2025-01-24T08:28:28.096915",
     "exception": false,
     "start_time": "2025-01-24T08:28:28.084009",
     "status": "completed"
    },
    "tags": []
   },
   "outputs": [],
   "source": [
    "result_df['winner'] = ['model_a' if i else 'model_b' for i in proba[:, 0] > proba[:, 1]]"
   ]
  },
  {
   "cell_type": "code",
   "execution_count": 22,
   "id": "320c33a5",
   "metadata": {
    "execution": {
     "iopub.execute_input": "2025-01-24T08:28:28.112304Z",
     "iopub.status.busy": "2025-01-24T08:28:28.112110Z",
     "iopub.status.idle": "2025-01-24T08:28:28.127237Z",
     "shell.execute_reply": "2025-01-24T08:28:28.126442Z"
    },
    "papermill": {
     "duration": 0.02418,
     "end_time": "2025-01-24T08:28:28.128374",
     "exception": false,
     "start_time": "2025-01-24T08:28:28.104194",
     "status": "completed"
    },
    "tags": []
   },
   "outputs": [
    {
     "data": {
      "text/html": [
       "<div>\n",
       "<style scoped>\n",
       "    .dataframe tbody tr th:only-of-type {\n",
       "        vertical-align: middle;\n",
       "    }\n",
       "\n",
       "    .dataframe tbody tr th {\n",
       "        vertical-align: top;\n",
       "    }\n",
       "\n",
       "    .dataframe thead th {\n",
       "        text-align: right;\n",
       "    }\n",
       "</style>\n",
       "<table border=\"1\" class=\"dataframe\">\n",
       "  <thead>\n",
       "    <tr style=\"text-align: right;\">\n",
       "      <th></th>\n",
       "      <th>id</th>\n",
       "      <th>winner</th>\n",
       "    </tr>\n",
       "  </thead>\n",
       "  <tbody>\n",
       "    <tr>\n",
       "      <th>0</th>\n",
       "      <td>327228</td>\n",
       "      <td>model_b</td>\n",
       "    </tr>\n",
       "    <tr>\n",
       "      <th>1</th>\n",
       "      <td>1139415</td>\n",
       "      <td>model_b</td>\n",
       "    </tr>\n",
       "    <tr>\n",
       "      <th>2</th>\n",
       "      <td>1235630</td>\n",
       "      <td>model_a</td>\n",
       "    </tr>\n",
       "  </tbody>\n",
       "</table>\n",
       "</div>"
      ],
      "text/plain": [
       "        id   winner\n",
       "0   327228  model_b\n",
       "1  1139415  model_b\n",
       "2  1235630  model_a"
      ]
     },
     "metadata": {},
     "output_type": "display_data"
    }
   ],
   "source": [
    "submission_df = result_df[['id', 'winner']]\n",
    "display(submission_df)"
   ]
  },
  {
   "cell_type": "code",
   "execution_count": 23,
   "id": "73c09971",
   "metadata": {
    "execution": {
     "iopub.execute_input": "2025-01-24T08:28:28.143553Z",
     "iopub.status.busy": "2025-01-24T08:28:28.143320Z",
     "iopub.status.idle": "2025-01-24T08:28:28.147984Z",
     "shell.execute_reply": "2025-01-24T08:28:28.147351Z"
    },
    "papermill": {
     "duration": 0.013481,
     "end_time": "2025-01-24T08:28:28.149101",
     "exception": false,
     "start_time": "2025-01-24T08:28:28.135620",
     "status": "completed"
    },
    "tags": []
   },
   "outputs": [],
   "source": [
    "submission_df.to_csv('submission.csv', index=False)"
   ]
  }
 ],
 "metadata": {
  "kaggle": {
   "accelerator": "nvidiaTeslaT4",
   "dataSources": [
    {
     "databundleVersionId": 10131489,
     "sourceId": 86946,
     "sourceType": "competition"
    },
    {
     "datasetId": 6394628,
     "sourceId": 10327601,
     "sourceType": "datasetVersion"
    },
    {
     "datasetId": 6395205,
     "sourceId": 10328454,
     "sourceType": "datasetVersion"
    },
    {
     "datasetId": 6400870,
     "sourceId": 10337005,
     "sourceType": "datasetVersion"
    },
    {
     "datasetId": 6400979,
     "sourceId": 10337153,
     "sourceType": "datasetVersion"
    },
    {
     "datasetId": 6405296,
     "sourceId": 10343682,
     "sourceType": "datasetVersion"
    },
    {
     "datasetId": 6406709,
     "sourceId": 10346336,
     "sourceType": "datasetVersion"
    },
    {
     "sourceId": 215894884,
     "sourceType": "kernelVersion"
    },
    {
     "sourceId": 215896260,
     "sourceType": "kernelVersion"
    },
    {
     "sourceId": 216797344,
     "sourceType": "kernelVersion"
    },
    {
     "sourceId": 216954803,
     "sourceType": "kernelVersion"
    },
    {
     "sourceId": 217805244,
     "sourceType": "kernelVersion"
    },
    {
     "sourceId": 217948114,
     "sourceType": "kernelVersion"
    },
    {
     "sourceId": 218047787,
     "sourceType": "kernelVersion"
    },
    {
     "sourceId": 218231017,
     "sourceType": "kernelVersion"
    },
    {
     "sourceId": 218407531,
     "sourceType": "kernelVersion"
    },
    {
     "sourceId": 218553908,
     "sourceType": "kernelVersion"
    },
    {
     "sourceId": 218711709,
     "sourceType": "kernelVersion"
    },
    {
     "modelId": 114668,
     "modelInstanceId": 90450,
     "sourceId": 107993,
     "sourceType": "modelInstanceVersion"
    }
   ],
   "dockerImageVersionId": 30840,
   "isGpuEnabled": true,
   "isInternetEnabled": false,
   "language": "python",
   "sourceType": "notebook"
  },
  "kernelspec": {
   "display_name": "Python 3",
   "language": "python",
   "name": "python3"
  },
  "language_info": {
   "codemirror_mode": {
    "name": "ipython",
    "version": 3
   },
   "file_extension": ".py",
   "mimetype": "text/x-python",
   "name": "python",
   "nbconvert_exporter": "python",
   "pygments_lexer": "ipython3",
   "version": "3.10.12"
  },
  "papermill": {
   "default_parameters": {},
   "duration": 256.416844,
   "end_time": "2025-01-24T08:28:30.935990",
   "environment_variables": {},
   "exception": null,
   "input_path": "__notebook__.ipynb",
   "output_path": "__notebook__.ipynb",
   "parameters": {},
   "start_time": "2025-01-24T08:24:14.519146",
   "version": "2.6.0"
  }
 },
 "nbformat": 4,
 "nbformat_minor": 5
}
