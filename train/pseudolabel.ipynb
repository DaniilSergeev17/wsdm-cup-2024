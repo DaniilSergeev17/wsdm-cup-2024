{
 "cells": [
  {
   "cell_type": "code",
   "execution_count": 1,
   "id": "d0530503-cd1d-4ade-b631-c93772e98488",
   "metadata": {},
   "outputs": [],
   "source": [
    "import time\n",
    "import os\n",
    "import ftfy\n",
    "from tqdm import tqdm\n",
    "\n",
    "import numpy as np\n",
    "import pandas as pd\n",
    "\n",
    "from dataclasses import dataclass\n",
    "from concurrent.futures import ThreadPoolExecutor\n",
    "\n",
    "import torch\n",
    "import sklearn\n",
    "\n",
    "from transformers import AutoModelForSequenceClassification, AutoTokenizer, BitsAndBytesConfig, PreTrainedTokenizerBase\n",
    "from transformers.data.data_collator import pad_without_fast_tokenizer_warning\n",
    "from peft import PeftModel"
   ]
  },
  {
   "cell_type": "code",
   "execution_count": 2,
   "id": "929f9b7f-e25d-4a48-b64c-423cf023fa47",
   "metadata": {},
   "outputs": [],
   "source": [
    "os.environ['CUDA_VISIBLE_DEVICES'] = '0'\n",
    "\n",
    "USE_LEFTSIDE_TRUNCATION = True"
   ]
  },
  {
   "cell_type": "code",
   "execution_count": 3,
   "id": "6917f764-384b-412a-8892-ac0f87dcfe55",
   "metadata": {},
   "outputs": [],
   "source": [
    "@dataclass\n",
    "class Config:\n",
    "    gemma_dir = 'TOP5-MODEL/QUANTIZED-TOP5-LMSYS-8BIT'\n",
    "    lora_dir = 'output-4-8BIT-TOP5-LMSYS-MODEL-99.9PERCENT-CUSTOM-HEAD-LEFTSIDE-NO-EXTRA-DATA-MAXLEN2048-R64-A4-BF16/checkpoint-3024'\n",
    "    head_dropout = 0.1\n",
    "    hdim = 3584\n",
    "    num_labels = 2\n",
    "    device = torch.device('cuda')    \n",
    "    max_length = 2048\n",
    "    batch_size = 32\n",
    "    tta = True\n",
    "    \n",
    "cfg = Config()"
   ]
  },
  {
   "cell_type": "code",
   "execution_count": 4,
   "id": "8677dd2f-a824-480b-bd8a-d4353228db7d",
   "metadata": {},
   "outputs": [],
   "source": [
    "test = pd.read_parquet('data/for-pseudolabeling/wsdm_for_pseudolabel.parquet') # data/for-pseudolabeling/hf-open-models-v1.parquet"
   ]
  },
  {
   "cell_type": "code",
   "execution_count": 5,
   "id": "cf4e0d50-cc53-4f4a-9e96-a7e98152a47c",
   "metadata": {},
   "outputs": [],
   "source": [
    "orpo = pd.read_parquet('data/orpo-dpo-44k-for-wsdm.parquet')"
   ]
  },
  {
   "cell_type": "code",
   "execution_count": 6,
   "id": "244dfab1-1301-486c-83c9-8a9fcb0c617f",
   "metadata": {},
   "outputs": [],
   "source": [
    "mask = ~test['prompt'].isin(orpo['prompt'])\n",
    "test = test[mask]"
   ]
  },
  {
   "cell_type": "code",
   "execution_count": 7,
   "id": "f2fdd4d3-c734-43c1-b3cd-1b6d3c3be51d",
   "metadata": {},
   "outputs": [],
   "source": [
    "test = test[test['response_a'] != '']\n",
    "test = test[test['response_b'] != '']"
   ]
  },
  {
   "cell_type": "code",
   "execution_count": 8,
   "id": "6c0fb5d7-1dcc-492b-8433-dbac615ea827",
   "metadata": {},
   "outputs": [],
   "source": [
    "test = test[test['response_a'] != ' ']\n",
    "test = test[test['response_b'] != ' ']"
   ]
  },
  {
   "cell_type": "code",
   "execution_count": 9,
   "id": "ba62f090-44df-49d2-b6c9-80ab98a7a580",
   "metadata": {},
   "outputs": [],
   "source": [
    "test = test[test['response_b'] != '\\n']\n",
    "test = test[test['response_b'] != '\\n']"
   ]
  },
  {
   "cell_type": "code",
   "execution_count": 10,
   "id": "1cdc7435-33cf-44fe-9645-7b9fd7d8554e",
   "metadata": {},
   "outputs": [],
   "source": [
    "def process_text(text: str) -> str:\n",
    "    return ftfy.fix_text(text)"
   ]
  },
  {
   "cell_type": "code",
   "execution_count": 11,
   "id": "75766760-c761-4cda-a55f-ede3f5423398",
   "metadata": {},
   "outputs": [],
   "source": [
    "def tokenize(\n",
    "    tokenizer, prompt, response_a, response_b, max_length=cfg.max_length\n",
    "):\n",
    "    prompt = ['<prompt>: ' + process_text(t) for t in prompt]\n",
    "    response_a = ['\\n\\n<response_a>: ' + process_text(t) for t in response_a]\n",
    "    response_b = ['\\n\\n<response_b>: ' + process_text(t) for t in response_b]\n",
    "    \n",
    "    texts = [p + r_a + r_b for p, r_a, r_b in zip(prompt, response_a, response_b)]\n",
    "    tokenized = tokenizer(texts, max_length=max_length, truncation=True)\n",
    "    \n",
    "    input_ids = tokenized.input_ids\n",
    "    attention_mask = tokenized.attention_mask\n",
    "        \n",
    "    return input_ids, attention_mask"
   ]
  },
  {
   "cell_type": "code",
   "execution_count": 12,
   "id": "8f094754-e7c0-4288-99f5-af2f62a1f487",
   "metadata": {},
   "outputs": [],
   "source": [
    "tokenizer = AutoTokenizer.from_pretrained(cfg.gemma_dir)\n",
    "tokenizer.add_eos_token = True\n",
    "if USE_LEFTSIDE_TRUNCATION:\n",
    "    tokenizer.truncation_side = 'left'\n",
    "    tokenizer.padding_side = 'left'"
   ]
  },
  {
   "cell_type": "code",
   "execution_count": 13,
   "id": "636db896-1dbb-4416-9b0d-a6cd90ce408c",
   "metadata": {},
   "outputs": [
    {
     "name": "stdout",
     "output_type": "stream",
     "text": [
      "CPU times: user 27min 18s, sys: 49.7 s, total: 28min 8s\n",
      "Wall time: 13min 33s\n"
     ]
    }
   ],
   "source": [
    "%%time\n",
    "\n",
    "data = pd.DataFrame()\n",
    "#data[\"id\"] = test[\"id\"]\n",
    "data[\"input_ids\"], data[\"attention_mask\"] = tokenize(tokenizer, test[\"prompt\"], test[\"response_a\"], test[\"response_b\"])\n",
    "data[\"length\"] = data[\"input_ids\"].apply(len)\n",
    "\n",
    "aug_data = pd.DataFrame()\n",
    "#aug_data[\"id\"] = test[\"id\"]\n",
    "aug_data['input_ids'], aug_data['attention_mask'] = tokenize(tokenizer, test[\"prompt\"], test[\"response_b\"], test[\"response_a\"])\n",
    "aug_data[\"length\"] = aug_data[\"input_ids\"].apply(len)"
   ]
  },
  {
   "cell_type": "code",
   "execution_count": 14,
   "id": "5e5bd271-02da-4a7e-b94f-810a3e0cc708",
   "metadata": {},
   "outputs": [
    {
     "name": "stdout",
     "output_type": "stream",
     "text": [
      "<bos><prompt>: Given a list of numbers, sort the list. However, instead of using traditional sorting methods, implement a heap sort algorithm to sort the list in ascending order. Do not use any in-built or library functions for sorting.\n",
      "\n",
      "List : [7, 3, 5, 6, 2]\n",
      "\n",
      "<response_a>:   Sure, I can help you with that! Here's an example of how to implement a heap sort algorithm to sort the given list in ascending order:\n",
      "\n",
      "First, let's define a function to swap two elements in the list:\n",
      "```\n",
      "def swap(arr, i, j):\n",
      "    temp = arr[i]\n",
      "    arr[i] = arr[j]\n",
      "    arr[j] = temp\n",
      "```\n",
      "Now, let's define a function to heapify the list:\n",
      "```\n",
      "def heapify(arr, n):\n",
      "    # Last index of the list\n",
      "    last_idx = n - 1\n",
      "\n",
      "    # Loop from the last index to the second last index\n",
      "    for i in range(last_idx, 0, -1):\n",
      "        # largest element in the heap\n",
      "        largest = i\n",
      "\n",
      "        # Compare the largest element with its children\n",
      "        for j in range(2 * i + 1, n):\n",
      "            if arr[j] > arr[largest]:\n",
      "                largest = j\n",
      "\n",
      "        # Swap the largest element with its parent\n",
      "        swap(arr, i, largest)\n",
      "\n",
      "    return arr\n",
      "```\n",
      "Finally, let's call the heapify function to sort the list:\n",
      "```\n",
      "arr = [7, 3, 5, 6, 2]\n",
      "n = len(arr)\n",
      "heapify(arr, n)\n",
      "\n",
      "print(arr)  # [2, 3, 5, 6, 7]\n",
      "```\n",
      "This implementation uses the heap sort algorithm to sort the list in ascending order. The heapify function takes the list and its length as input, and then iteratively swaps elements in the list to ensure that the largest element is at the root of the heap. The function then recursively calls itself on the rest of the list until the entire list is sorted.\n",
      "\n",
      "Note that this implementation does not use any in-built or library functions for sorting, and it is designed to be efficient and easily interpretable by others.\n",
      "\n",
      "<response_b>: \n",
      "Here is a Python solution using heap sort algorithm:\n",
      "\n",
      "```python\n",
      "def heapify(arr, n, i):\n",
      "    largest = i  # Initialize largest as root\n",
      "    l = 2 * i + 1     # left = 2*i + 1\n",
      "    r = 2 * i + 2     # right = 2*i + 2\n",
      "    # See if left child of root exists and is greater than root\n",
      "    if l < n and arr[i] < arr[l]:\n",
      "        largest = l\n",
      "    # See if right child of root exists and is greater than root\n",
      "    if r < n and arr[largest] < arr[r]:\n",
      "        largest = r\n",
      "    # Change root, if needed\n",
      "    if largest!= i:\n",
      "        arr[i], arr[largest] = arr[largest], arr[i]  # swap\n",
      "        # Heapify the root.\n",
      "        heapify(arr, n, largest)\n",
      "\n",
      "def heap_sort(arr):\n",
      "    n = len(arr)\n",
      "    # Build a maxheap.\n",
      "    for i in range(n // 2 - 1, -1, -1):\n",
      "        heapify(arr, n, i)\n",
      "    # One by one extract elements\n",
      "    for i in range(n - 1, 0, -1):\n",
      "        arr[i], arr[0] = arr[0], arr[i]   # swap\n",
      "        heapify(arr, i, 0)\n",
      "\n",
      "numbers = [7, 3, 5, 6, 2]\n",
      "heap_sort(numbers)\n",
      "print(numbers)\n",
      "```\n",
      "\n",
      "Heap sort starts by considering the last element as a root and swaps it with the largest among root and its left child. Then it considers the last element as a root again and swaps it with the largest among root and its left child, and so on. This process continues until the last element is moved to its correct position. The same process is repeated for the rest of the tree, starting from the second last element. This process creates a sorted array.\n",
      "\n",
      "This solution is clean, efficient, and follows standard programming practices. It has a time complexity of O(n log n), where n is the number of elements in the array. This is because a logarithmic amount of work is done for each element, resulting in a total time complexity of O(n log n).<eos>\n"
     ]
    }
   ],
   "source": [
    "print(tokenizer.decode(data[\"input_ids\"][0]))"
   ]
  },
  {
   "cell_type": "code",
   "execution_count": 15,
   "id": "332a5c52-dad3-4c9d-bba0-ef5e5944a43e",
   "metadata": {},
   "outputs": [
    {
     "name": "stdout",
     "output_type": "stream",
     "text": [
      "<bos><prompt>: Given a list of numbers, sort the list. However, instead of using traditional sorting methods, implement a heap sort algorithm to sort the list in ascending order. Do not use any in-built or library functions for sorting.\n",
      "\n",
      "List : [7, 3, 5, 6, 2]\n",
      "\n",
      "<response_a>: \n",
      "Here is a Python solution using heap sort algorithm:\n",
      "\n",
      "```python\n",
      "def heapify(arr, n, i):\n",
      "    largest = i  # Initialize largest as root\n",
      "    l = 2 * i + 1     # left = 2*i + 1\n",
      "    r = 2 * i + 2     # right = 2*i + 2\n",
      "    # See if left child of root exists and is greater than root\n",
      "    if l < n and arr[i] < arr[l]:\n",
      "        largest = l\n",
      "    # See if right child of root exists and is greater than root\n",
      "    if r < n and arr[largest] < arr[r]:\n",
      "        largest = r\n",
      "    # Change root, if needed\n",
      "    if largest!= i:\n",
      "        arr[i], arr[largest] = arr[largest], arr[i]  # swap\n",
      "        # Heapify the root.\n",
      "        heapify(arr, n, largest)\n",
      "\n",
      "def heap_sort(arr):\n",
      "    n = len(arr)\n",
      "    # Build a maxheap.\n",
      "    for i in range(n // 2 - 1, -1, -1):\n",
      "        heapify(arr, n, i)\n",
      "    # One by one extract elements\n",
      "    for i in range(n - 1, 0, -1):\n",
      "        arr[i], arr[0] = arr[0], arr[i]   # swap\n",
      "        heapify(arr, i, 0)\n",
      "\n",
      "numbers = [7, 3, 5, 6, 2]\n",
      "heap_sort(numbers)\n",
      "print(numbers)\n",
      "```\n",
      "\n",
      "Heap sort starts by considering the last element as a root and swaps it with the largest among root and its left child. Then it considers the last element as a root again and swaps it with the largest among root and its left child, and so on. This process continues until the last element is moved to its correct position. The same process is repeated for the rest of the tree, starting from the second last element. This process creates a sorted array.\n",
      "\n",
      "This solution is clean, efficient, and follows standard programming practices. It has a time complexity of O(n log n), where n is the number of elements in the array. This is because a logarithmic amount of work is done for each element, resulting in a total time complexity of O(n log n).\n",
      "\n",
      "<response_b>:   Sure, I can help you with that! Here's an example of how to implement a heap sort algorithm to sort the given list in ascending order:\n",
      "\n",
      "First, let's define a function to swap two elements in the list:\n",
      "```\n",
      "def swap(arr, i, j):\n",
      "    temp = arr[i]\n",
      "    arr[i] = arr[j]\n",
      "    arr[j] = temp\n",
      "```\n",
      "Now, let's define a function to heapify the list:\n",
      "```\n",
      "def heapify(arr, n):\n",
      "    # Last index of the list\n",
      "    last_idx = n - 1\n",
      "\n",
      "    # Loop from the last index to the second last index\n",
      "    for i in range(last_idx, 0, -1):\n",
      "        # largest element in the heap\n",
      "        largest = i\n",
      "\n",
      "        # Compare the largest element with its children\n",
      "        for j in range(2 * i + 1, n):\n",
      "            if arr[j] > arr[largest]:\n",
      "                largest = j\n",
      "\n",
      "        # Swap the largest element with its parent\n",
      "        swap(arr, i, largest)\n",
      "\n",
      "    return arr\n",
      "```\n",
      "Finally, let's call the heapify function to sort the list:\n",
      "```\n",
      "arr = [7, 3, 5, 6, 2]\n",
      "n = len(arr)\n",
      "heapify(arr, n)\n",
      "\n",
      "print(arr)  # [2, 3, 5, 6, 7]\n",
      "```\n",
      "This implementation uses the heap sort algorithm to sort the list in ascending order. The heapify function takes the list and its length as input, and then iteratively swaps elements in the list to ensure that the largest element is at the root of the heap. The function then recursively calls itself on the rest of the list until the entire list is sorted.\n",
      "\n",
      "Note that this implementation does not use any in-built or library functions for sorting, and it is designed to be efficient and easily interpretable by others.<eos>\n"
     ]
    }
   ],
   "source": [
    "print(tokenizer.decode(aug_data[\"input_ids\"][0]))"
   ]
  },
  {
   "cell_type": "code",
   "execution_count": 16,
   "id": "e36e5374-0702-482c-9be1-bdf3eb76a5f0",
   "metadata": {},
   "outputs": [
    {
     "name": "stderr",
     "output_type": "stream",
     "text": [
      "Unused kwargs: ['_load_in_4bit', '_load_in_8bit', 'quant_method']. These kwargs are not used in <class 'transformers.utils.quantization_config.BitsAndBytesConfig'>.\n"
     ]
    },
    {
     "data": {
      "application/vnd.jupyter.widget-view+json": {
       "model_id": "eadd3f70f4ee4df385445124e8993296",
       "version_major": 2,
       "version_minor": 0
      },
      "text/plain": [
       "Loading checkpoint shards:   0%|          | 0/3 [00:00<?, ?it/s]"
      ]
     },
     "metadata": {},
     "output_type": "display_data"
    }
   ],
   "source": [
    "model = AutoModelForSequenceClassification.from_pretrained(\n",
    "    cfg.gemma_dir,\n",
    "    torch_dtype=torch.float16,\n",
    "    num_labels=cfg.num_labels,\n",
    "    device_map='auto',\n",
    "    use_cache=False\n",
    ")\n",
    "model.score = torch.nn.Sequential(\n",
    "    torch.nn.Dropout(cfg.head_dropout),\n",
    "    torch.nn.Linear(cfg.hdim, cfg.hdim // 2),\n",
    "    torch.nn.Dropout(cfg.head_dropout),\n",
    "    torch.nn.GELU(),\n",
    "    torch.nn.Linear(cfg.hdim // 2, cfg.num_labels),\n",
    ").to('cuda:0')"
   ]
  },
  {
   "cell_type": "code",
   "execution_count": 17,
   "id": "e9bc648e-c6c1-4833-88cc-3675e4fc5ab0",
   "metadata": {},
   "outputs": [],
   "source": [
    "model = PeftModel.from_pretrained(model, cfg.lora_dir)"
   ]
  },
  {
   "cell_type": "code",
   "execution_count": 18,
   "id": "4e09933b-f570-4d0c-ad13-530c881ac324",
   "metadata": {},
   "outputs": [
    {
     "name": "stderr",
     "output_type": "stream",
     "text": [
      "/tmp/ipykernel_6785/548769666.py:2: FutureWarning: `torch.cuda.amp.autocast(args...)` is deprecated. Please use `torch.amp.autocast('cuda', args...)` instead.\n",
      "  @torch.cuda.amp.autocast()\n"
     ]
    }
   ],
   "source": [
    "@torch.no_grad()\n",
    "@torch.cuda.amp.autocast()\n",
    "def inference(df, model, device, batch_size=cfg.batch_size, max_length=cfg.max_length):\n",
    "    a_win, b_win = [], []\n",
    "    \n",
    "    for start_idx in tqdm(range(0, len(df), batch_size)):\n",
    "        end_idx = min(start_idx + batch_size, len(df))\n",
    "        tmp = df.iloc[start_idx:end_idx]\n",
    "        input_ids = tmp['input_ids'].to_list()\n",
    "        attention_mask = tmp['attention_mask'].to_list()\n",
    "        inputs = pad_without_fast_tokenizer_warning(\n",
    "            tokenizer,\n",
    "            {'input_ids': input_ids, 'attention_mask': attention_mask},\n",
    "            padding='longest',\n",
    "            pad_to_multiple_of=None,\n",
    "            return_tensors='pt',\n",
    "        )\n",
    "        outputs = model(**inputs.to(device))\n",
    "        proba = outputs.logits.softmax(-1).cpu()\n",
    "        \n",
    "        a_win.extend(proba[:, 0].tolist())\n",
    "        b_win.extend(proba[:, 1].tolist())\n",
    "    \n",
    "    df['winner_model_a'] = a_win\n",
    "    df['winner_model_b'] = b_win\n",
    "    \n",
    "    return df"
   ]
  },
  {
   "cell_type": "code",
   "execution_count": 19,
   "id": "75f70e66-e87f-46d6-89ab-2e7702d6e6b3",
   "metadata": {},
   "outputs": [
    {
     "name": "stderr",
     "output_type": "stream",
     "text": [
      " 71%|███████   | 12513/17702 [8:44:24<1:08:22,  1.26it/s]IOPub message rate exceeded.\n",
      "The Jupyter server will temporarily stop sending output\n",
      "to the client in order to avoid crashing it.\n",
      "To change this limit, set the config variable\n",
      "`--ServerApp.iopub_msg_rate_limit`.\n",
      "\n",
      "Current values:\n",
      "ServerApp.iopub_msg_rate_limit=1000.0 (msgs/sec)\n",
      "ServerApp.rate_limit_window=3.0 (secs)\n",
      "\n"
     ]
    }
   ],
   "source": [
    "st = time.time()\n",
    "\n",
    "data = data.sort_values('length', ascending=False)\n",
    "result_df = inference(data, model, 'cuda:0')\n",
    "proba = result_df[['winner_model_a', 'winner_model_b']].values\n",
    "\n",
    "print(f'elapsed time: {time.time() - st}')"
   ]
  },
  {
   "cell_type": "code",
   "execution_count": 20,
   "id": "b527b2a4-1a91-4e10-b249-214af1139017",
   "metadata": {},
   "outputs": [
    {
     "data": {
      "text/plain": [
       "array([[0.03584693, 0.96415305],\n",
       "       [0.77210134, 0.22789866],\n",
       "       [0.08889936, 0.91110069],\n",
       "       ...,\n",
       "       [0.37307605, 0.62692398],\n",
       "       [0.20577459, 0.79422539],\n",
       "       [0.49821472, 0.50178528]])"
      ]
     },
     "execution_count": 20,
     "metadata": {},
     "output_type": "execute_result"
    }
   ],
   "source": [
    "proba"
   ]
  },
  {
   "cell_type": "code",
   "execution_count": 21,
   "id": "49eeb4be-49c2-4eff-9aca-45f3f19ce604",
   "metadata": {},
   "outputs": [
    {
     "name": "stderr",
     "output_type": "stream",
     "text": [
      " 17%|█▋        | 2999/17702 [4:03:13<12:44:07,  3.12s/it]IOPub message rate exceeded.\n",
      "The Jupyter server will temporarily stop sending output\n",
      "to the client in order to avoid crashing it.\n",
      "To change this limit, set the config variable\n",
      "`--ServerApp.iopub_msg_rate_limit`.\n",
      "\n",
      "Current values:\n",
      "ServerApp.iopub_msg_rate_limit=1000.0 (msgs/sec)\n",
      "ServerApp.rate_limit_window=3.0 (secs)\n",
      "\n",
      "100%|██████████| 17702/17702 [9:22:51<00:00,  1.91s/it]\n"
     ]
    },
    {
     "name": "stdout",
     "output_type": "stream",
     "text": [
      "elapsed time: 33772.72440576553\n"
     ]
    }
   ],
   "source": [
    "st = time.time()\n",
    "\n",
    "if cfg.tta:\n",
    "    aug_data = aug_data.sort_values('length', ascending=False)\n",
    "    tta_result_df = inference(aug_data, model, 'cuda:0')\n",
    "    tta_proba = tta_result_df[['winner_model_b', 'winner_model_a']].values\n",
    "\n",
    "print(f'elapsed time: {time.time() - st}')"
   ]
  },
  {
   "cell_type": "code",
   "execution_count": 22,
   "id": "592fffd2-5081-40c8-a5dc-24ec4fb09f29",
   "metadata": {},
   "outputs": [
    {
     "data": {
      "text/plain": [
       "array([[0.00454726, 0.99545276],\n",
       "       [0.75976056, 0.24023944],\n",
       "       [0.07613248, 0.92386752],\n",
       "       ...,\n",
       "       [0.45786574, 0.54213423],\n",
       "       [0.63411862, 0.36588141],\n",
       "       [0.61172998, 0.38827005]])"
      ]
     },
     "execution_count": 22,
     "metadata": {},
     "output_type": "execute_result"
    }
   ],
   "source": [
    "tta_proba"
   ]
  },
  {
   "cell_type": "code",
   "execution_count": 23,
   "id": "b1e213e7-2624-40f0-84ad-7edc4d9c9fe5",
   "metadata": {},
   "outputs": [],
   "source": [
    "proba = (proba + tta_proba) / 2"
   ]
  },
  {
   "cell_type": "code",
   "execution_count": 24,
   "id": "cec636f4-908b-4bc5-a51e-2d03ddf32774",
   "metadata": {},
   "outputs": [
    {
     "data": {
      "text/plain": [
       "array([[0.0201971 , 0.97980291],\n",
       "       [0.76593095, 0.23406905],\n",
       "       [0.08251592, 0.9174841 ],\n",
       "       ...,\n",
       "       [0.4154709 , 0.5845291 ],\n",
       "       [0.4199466 , 0.5800534 ],\n",
       "       [0.55497235, 0.44502766]])"
      ]
     },
     "execution_count": 24,
     "metadata": {},
     "output_type": "execute_result"
    }
   ],
   "source": [
    "proba"
   ]
  },
  {
   "cell_type": "code",
   "execution_count": 25,
   "id": "c547a9e4-c28c-4e8a-989e-3099fdb95bf8",
   "metadata": {},
   "outputs": [],
   "source": [
    "test['winner'] = proba.tolist()"
   ]
  },
  {
   "cell_type": "code",
   "execution_count": 26,
   "id": "e8368da2-babb-423f-8edd-22668f516b17",
   "metadata": {},
   "outputs": [],
   "source": [
    "test = test[['prompt', 'response_a', 'response_b', 'winner']]"
   ]
  },
  {
   "cell_type": "code",
   "execution_count": 27,
   "id": "9c679393-ad01-4235-b7db-5a7c9e43b64b",
   "metadata": {},
   "outputs": [],
   "source": [
    "test.to_parquet('data/wsdm-pseudolabeled/huuuuuge_pseudolabeled_df.parquet', index=False) # data/wsdm-pseudolabeled/8k_pseudolabeled.parquet"
   ]
  },
  {
   "cell_type": "code",
   "execution_count": 28,
   "id": "ec4079c1-1176-4ca9-88b5-f2ea85e07a61",
   "metadata": {},
   "outputs": [
    {
     "data": {
      "text/html": [
       "<div>\n",
       "<style scoped>\n",
       "    .dataframe tbody tr th:only-of-type {\n",
       "        vertical-align: middle;\n",
       "    }\n",
       "\n",
       "    .dataframe tbody tr th {\n",
       "        vertical-align: top;\n",
       "    }\n",
       "\n",
       "    .dataframe thead th {\n",
       "        text-align: right;\n",
       "    }\n",
       "</style>\n",
       "<table border=\"1\" class=\"dataframe\">\n",
       "  <thead>\n",
       "    <tr style=\"text-align: right;\">\n",
       "      <th></th>\n",
       "      <th>prompt</th>\n",
       "      <th>response_a</th>\n",
       "      <th>response_b</th>\n",
       "      <th>winner</th>\n",
       "    </tr>\n",
       "  </thead>\n",
       "  <tbody>\n",
       "    <tr>\n",
       "      <th>0</th>\n",
       "      <td>Given a list of numbers, sort the list. Howeve...</td>\n",
       "      <td>Sure, I can help you with that! Here's an ex...</td>\n",
       "      <td>\\nHere is a Python solution using heap sort al...</td>\n",
       "      <td>[0.020197095349431038, 0.9798029065132141]</td>\n",
       "    </tr>\n",
       "    <tr>\n",
       "      <th>1</th>\n",
       "      <td>Write Python code to solve the task:\\nMedicine...</td>\n",
       "      <td>Step 1:  The problem requires us to find the m...</td>\n",
       "      <td>Step 1:  We need to determine the minimum cost...</td>\n",
       "      <td>[0.7659309506416321, 0.23406904935836792]</td>\n",
       "    </tr>\n",
       "    <tr>\n",
       "      <th>2</th>\n",
       "      <td>Write Python code to solve the task:\\nJiro is ...</td>\n",
       "      <td>Step 1:  To solve this problem, we need to cal...</td>\n",
       "      <td>Step 1:  We need to calculate the rank of each...</td>\n",
       "      <td>[0.08251592144370079, 0.9174841046333313]</td>\n",
       "    </tr>\n",
       "    <tr>\n",
       "      <th>3</th>\n",
       "      <td>Refine a Python function using PyTorch and ski...</td>\n",
       "      <td>Sure, I'd be happy to help! Here's a refined...</td>\n",
       "      <td>\\nBelow is a simplified Python function that c...</td>\n",
       "      <td>[0.8477382957935333, 0.15226170420646667]</td>\n",
       "    </tr>\n",
       "    <tr>\n",
       "      <th>4</th>\n",
       "      <td>what are alternatives to the egg drop challang...</td>\n",
       "      <td>Here are a few alternative challenges that a g...</td>\n",
       "      <td>The egg drop challenge is a classic engineerin...</td>\n",
       "      <td>[0.5739484578371048, 0.4260515198111534]</td>\n",
       "    </tr>\n",
       "    <tr>\n",
       "      <th>...</th>\n",
       "      <td>...</td>\n",
       "      <td>...</td>\n",
       "      <td>...</td>\n",
       "      <td>...</td>\n",
       "    </tr>\n",
       "    <tr>\n",
       "      <th>585442</th>\n",
       "      <td>You will be given a definition of a task first...</td>\n",
       "      <td>The object of the main clause in the given sen...</td>\n",
       "      <td>Here's my prediction: The 'chamber's heavy bla...</td>\n",
       "      <td>[0.3252182975411415, 0.6747817397117615]</td>\n",
       "    </tr>\n",
       "    <tr>\n",
       "      <th>585445</th>\n",
       "      <td>In addition to the given prompt, what are some...</td>\n",
       "      <td>In enhancing your Java performance review temp...</td>\n",
       "      <td>I'm not capable of modifying code directly. ho...</td>\n",
       "      <td>[0.43432340025901794, 0.5656766295433044]</td>\n",
       "    </tr>\n",
       "    <tr>\n",
       "      <th>585447</th>\n",
       "      <td>Describe three different approaches to estimat...</td>\n",
       "      <td>Estimating the effectiveness of an organizatio...</td>\n",
       "      <td>Three different approaches to estimating the e...</td>\n",
       "      <td>[0.4154708981513977, 0.5845291018486023]</td>\n",
       "    </tr>\n",
       "    <tr>\n",
       "      <th>585448</th>\n",
       "      <td>How can I develop a code in Mark down that per...</td>\n",
       "      <td>Markdown is a lightweight markup language desi...</td>\n",
       "      <td>To develop code in Markdown that performs mult...</td>\n",
       "      <td>[0.4199466034770012, 0.5800534039735794]</td>\n",
       "    </tr>\n",
       "    <tr>\n",
       "      <th>585449</th>\n",
       "      <td>Generate a password that is 8 characters in le...</td>\n",
       "      <td>eT]8V7#u</td>\n",
       "      <td>Here is a password that meets most of the requ...</td>\n",
       "      <td>[0.5549723505973816, 0.4450276643037796]</td>\n",
       "    </tr>\n",
       "  </tbody>\n",
       "</table>\n",
       "<p>566455 rows × 4 columns</p>\n",
       "</div>"
      ],
      "text/plain": [
       "                                                   prompt  \\\n",
       "0       Given a list of numbers, sort the list. Howeve...   \n",
       "1       Write Python code to solve the task:\\nMedicine...   \n",
       "2       Write Python code to solve the task:\\nJiro is ...   \n",
       "3       Refine a Python function using PyTorch and ski...   \n",
       "4       what are alternatives to the egg drop challang...   \n",
       "...                                                   ...   \n",
       "585442  You will be given a definition of a task first...   \n",
       "585445  In addition to the given prompt, what are some...   \n",
       "585447  Describe three different approaches to estimat...   \n",
       "585448  How can I develop a code in Mark down that per...   \n",
       "585449  Generate a password that is 8 characters in le...   \n",
       "\n",
       "                                               response_a  \\\n",
       "0         Sure, I can help you with that! Here's an ex...   \n",
       "1       Step 1:  The problem requires us to find the m...   \n",
       "2       Step 1:  To solve this problem, we need to cal...   \n",
       "3         Sure, I'd be happy to help! Here's a refined...   \n",
       "4       Here are a few alternative challenges that a g...   \n",
       "...                                                   ...   \n",
       "585442  The object of the main clause in the given sen...   \n",
       "585445  In enhancing your Java performance review temp...   \n",
       "585447  Estimating the effectiveness of an organizatio...   \n",
       "585448  Markdown is a lightweight markup language desi...   \n",
       "585449                                           eT]8V7#u   \n",
       "\n",
       "                                               response_b  \\\n",
       "0       \\nHere is a Python solution using heap sort al...   \n",
       "1       Step 1:  We need to determine the minimum cost...   \n",
       "2       Step 1:  We need to calculate the rank of each...   \n",
       "3       \\nBelow is a simplified Python function that c...   \n",
       "4       The egg drop challenge is a classic engineerin...   \n",
       "...                                                   ...   \n",
       "585442  Here's my prediction: The 'chamber's heavy bla...   \n",
       "585445  I'm not capable of modifying code directly. ho...   \n",
       "585447  Three different approaches to estimating the e...   \n",
       "585448  To develop code in Markdown that performs mult...   \n",
       "585449  Here is a password that meets most of the requ...   \n",
       "\n",
       "                                            winner  \n",
       "0       [0.020197095349431038, 0.9798029065132141]  \n",
       "1        [0.7659309506416321, 0.23406904935836792]  \n",
       "2        [0.08251592144370079, 0.9174841046333313]  \n",
       "3        [0.8477382957935333, 0.15226170420646667]  \n",
       "4         [0.5739484578371048, 0.4260515198111534]  \n",
       "...                                            ...  \n",
       "585442    [0.3252182975411415, 0.6747817397117615]  \n",
       "585445   [0.43432340025901794, 0.5656766295433044]  \n",
       "585447    [0.4154708981513977, 0.5845291018486023]  \n",
       "585448    [0.4199466034770012, 0.5800534039735794]  \n",
       "585449    [0.5549723505973816, 0.4450276643037796]  \n",
       "\n",
       "[566455 rows x 4 columns]"
      ]
     },
     "execution_count": 28,
     "metadata": {},
     "output_type": "execute_result"
    }
   ],
   "source": [
    "test"
   ]
  }
 ],
 "metadata": {
  "kernelspec": {
   "display_name": "Python [conda env:.mlspace-311venv_kotov]",
   "language": "python",
   "name": "conda-env-.mlspace-311venv_kotov-py"
  },
  "language_info": {
   "codemirror_mode": {
    "name": "ipython",
    "version": 3
   },
   "file_extension": ".py",
   "mimetype": "text/x-python",
   "name": "python",
   "nbconvert_exporter": "python",
   "pygments_lexer": "ipython3",
   "version": "3.12.7"
  }
 },
 "nbformat": 4,
 "nbformat_minor": 5
}
